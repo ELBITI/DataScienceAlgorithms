{
  "nbformat": 4,
  "nbformat_minor": 0,
  "metadata": {
    "colab": {
      "provenance": [],
      "authorship_tag": "ABX9TyOz1s0U2F37ipi1bDfrdDpA",
      "include_colab_link": true
    },
    "kernelspec": {
      "name": "python3",
      "display_name": "Python 3"
    },
    "language_info": {
      "name": "python"
    }
  },
  "cells": [
    {
      "cell_type": "markdown",
      "metadata": {
        "id": "view-in-github",
        "colab_type": "text"
      },
      "source": [
        "<a href=\"https://colab.research.google.com/github/ELBITI/DataScienceAlgorithms/blob/main/Predictive_Modeling_for_Opossum_Ear_Size_Using_Footprint_Data.ipynb\" target=\"_parent\"><img src=\"https://colab.research.google.com/assets/colab-badge.svg\" alt=\"Open In Colab\"/></a>"
      ]
    },
    {
      "cell_type": "code",
      "execution_count": null,
      "metadata": {
        "id": "KzyLSHjCoeeI"
      },
      "outputs": [],
      "source": [
        "import pandas as pd\n",
        "import matplotlib.pyplot as plt\n",
        "\n",
        "df = pd.read_csv('possum.csv')\n",
        "\n",
        "#suprimer les lignes qui contient les valeur manquantes\n",
        "df = df.dropna()\n",
        "\n",
        "#remplacer les lignes qui contient les valeur manquantes par le moyenne (ca marche si les collonnes contient des variable numérique)\n",
        "#df.fillna(df.mean(), inplace = True)\n",
        "print(df.describe())\n",
        "\n",
        "df_selected = df [['footlgth', 'earconch']]\n",
        "\n",
        "\n",
        "print(df_selected.head())\n",
        "\n",
        "\n",
        "\n",
        "\n",
        "plt.scatter(df_selected['footlgth'], df_selected['earconch'], color = 'r', marker ='o')\n",
        "\n",
        "\n"
      ]
    }
  ]
}